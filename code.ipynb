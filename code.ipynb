{
 "cells": [
  {
   "cell_type": "markdown",
   "metadata": {
    "pycharm": {
     "name": "#%% md\n"
    }
   },
   "source": [
    "# Problem 1: Conceptual Questions"
   ]
  },
  {
   "cell_type": "markdown",
   "metadata": {
    "pycharm": {
     "name": "#%% md\n"
    }
   },
   "source": [
    "# 1. What are escape sequences? Explain any 3 escape sequences.?\n",
    "## In programming, an escape sequence is a series of characters that represents a special character or operation. Escape sequences typically start with a backslash () followed by a letter or symbol, and are used in strings to represent certain special characters or operations.\n",
    "\n",
    "## Here are some examples of common escape sequences:\n",
    "\n",
    "## \\n is the escape sequence for a newline character, which is used to insert a line break in a string.\n",
    "## \\t is the escape sequence for a tab character, which is used to insert a tab space in a string.\n",
    "## \\r is the escape sequence for a carriage return, which is used to move the cursor to the beginning of the current line without advancing to the next line.\n",
    "## These escape sequences allow you to represent special characters or perform special operations in strings that would otherwise be difficult or impossible to represent or accomplish. For example, if you want to include a double quote character in a string that is delimited by double quotes, you can use the escape sequence \\\" to insert the double quote character without causing the string to be prematurely terminated."
   ]
  },
  {
   "cell_type": "markdown",
   "metadata": {
    "pycharm": {
     "name": "#%% md\n"
    }
   },
   "source": [
    "# 2. What are data types? What are Python’s built-in core data types.\n",
    "## In programming, a data type is a classification of a type of data that determines the kind of operations that can be performed on that data and the type of value that can be stored in it. Different programming languages have different sets of built-in data types, and some languages also allow you to define custom data types.\n",
    "\n",
    "## Python is a dynamically-typed language, which means that you don't need to specify the data type of a variable when you declare it. Instead, the data type of a variable is determined automatically based on the value it is assigned. Python has several built-in core data types, including:\n",
    "\n",
    "## Integer: An integer data type represents whole numbers. For example, 5, 100, and -3 are all integers.\n",
    "## Floating-point: A floating-point data type represents numbers with fractional parts. For example, 3.14, 2.71828, and -0.5 are all floating-point numbers.\n",
    "## String: A string data type represents a sequence of characters. For example, \"hello\" and \"goodbye\" are both strings.\n",
    "## Boolean: A boolean data type represents a logical value. There are only two possible values for a boolean: True and False.\n",
    "## List: A list data type represents an ordered collection of values. For example, [1, 2, 3] is a list of integers, and [\"a\", \"b\", \"c\"] is a list of strings.\n",
    "## Tuple: A tuple data type is similar to a list, but it is immutable, meaning that its values cannot be modified once it is created.\n",
    "## Dictionary: A dictionary data type is a collection of key-value pairs. Each key in a dictionary is associated with a corresponding value, and the keys must be unique within the dictionary.\n",
    "## These are the built-in core data types in Python, but there are many other data types that are available in the language's standard library and through third-party libraries."
   ]
  },
  {
   "cell_type": "markdown",
   "metadata": {
    "pycharm": {
     "name": "#%% md\n"
    }
   },
   "source": [
    "# 3. What do you mean by positive correlation and negative correlation? Give one example of each.\n",
    "## In statistics, correlation is a measure of the relationship between two variables. Positive correlation means that when one variable increases, the other variable also increases. Negative correlation means that when one variable increases, the other variable decreases.\n",
    "\n",
    "## An example of positive correlation is the relationship between a person's height and their weight. As a person's height increases, their weight is likely to increase as well. An example of negative correlation is the relationship between the amount of homework a student does and the amount of time they spend watching TV. As the amount of homework increases, the amount of time spent watching TV is likely to decrease."
   ]
  },
  {
   "cell_type": "markdown",
   "metadata": {
    "pycharm": {
     "name": "#%% md\n"
    }
   },
   "source": [
    "# 4. What do you mean by five-point summary of data? Which plot is used to reflect five-point summary of data?\n",
    "\n",
    "## A five-point summary of data is a method of summarizing a set of numerical data using five common summary statistics: the minimum, first quartile, median, third quartile, and maximum. It is a simple way to visualize a range of values and detect outliers. The five-point summary is usually represented by a boxplot, which is a graph that displays the five-point summary using a box and whiskers. The box represents the interquartile range (IQR), which is the range between the first and third quartiles. The whiskers extend from the box to the minimum and maximum values."
   ]
  },
  {
   "cell_type": "markdown",
   "metadata": {
    "pycharm": {
     "name": "#%% md\n"
    }
   },
   "source": [
    "# 5. What is difference between univariate, bivariate and multivariate analysis? Give one example each of the plots used for these analysis\n",
    "\n",
    "## Univariate analysis is the analysis of a single variable. Bivariate analysis is the analysis of two variables, while multivariate analysis is the analysis of three or more variables.\n",
    "\n",
    "## Univariate analysis is often used to describe the characteristics of a single variable, such as its mean, median, mode, and range. A histogram is a common plot used in univariate analysis to show the distribution of a single variable.\n",
    "\n",
    "## Bivariate analysis is used to investigate the relationship between two variables. A scatter plot is a common plot used in bivariate analysis to show the relationship between two variables.\n",
    "\n",
    "## Multivariate analysis is used to investigate the relationship between three or more variables. A scatterplot matrix is a common plot used in multivariate analysis to show the relationships between multiple variables. This plot shows a scatter plot for every possible combination of two variables in the data set."
   ]
  },
  {
   "cell_type": "markdown",
   "metadata": {
    "pycharm": {
     "name": "#%% md\n"
    }
   },
   "source": [
    "# Problem 2: Programming Problem"
   ]
  },
  {
   "cell_type": "markdown",
   "metadata": {
    "pycharm": {
     "name": "#%% md\n"
    }
   },
   "source": [
    "## 1. Write a Python program to print the following pattern"
   ]
  },
  {
   "cell_type": "code",
   "execution_count": 69,
   "metadata": {
    "pycharm": {
     "name": "#%%\n"
    }
   },
   "outputs": [
    {
     "name": "stdout",
     "output_type": "stream",
     "text": [
      "#######\n",
      "#     #\n",
      "#     #\n",
      "#     #\n",
      "#     #\n",
      "#     #\n",
      "#######\n"
     ]
    }
   ],
   "source": [
    "for i in range(7):\n",
    "    if i == 0:\n",
    "        for x in range(6):\n",
    "            print(\"#\", end=\"\")\n",
    "        print(\"#\")\n",
    "    elif i == 6:\n",
    "        for x in range(6):\n",
    "            print(\"#\", end=\"\")\n",
    "        print(\"#\")\n",
    "    else:\n",
    "        print(\"#     #\")"
   ]
  },
  {
   "cell_type": "markdown",
   "metadata": {
    "pycharm": {
     "name": "#%% md\n"
    }
   },
   "source": [
    "# 2. Write a Python program to input marks in 3 subjects; compute average and then calculate grade as per following guidelines"
   ]
  },
  {
   "cell_type": "code",
   "execution_count": 70,
   "metadata": {
    "pycharm": {
     "name": "#%%\n"
    }
   },
   "outputs": [],
   "source": [
    "def get_average_score(grade_1, grade_2,grade_3): # Simple helper function to keep code clean\n",
    "    return (grade_1 + grade_2 + grade_3)//3"
   ]
  },
  {
   "cell_type": "code",
   "execution_count": 71,
   "metadata": {
    "pycharm": {
     "name": "#%%\n"
    }
   },
   "outputs": [],
   "source": [
    "def get_grade(score): # Simple helper function to keep code clean\n",
    "    if score >= 90:\n",
    "        return 'A'\n",
    "    elif 80 <= score <= 89:\n",
    "        return 'B'\n",
    "    elif 60 <= score <= 79:\n",
    "        return 'C'\n",
    "    elif 50 <= score <= 59:\n",
    "        return 'D'\n",
    "    elif 40 <= score <= 49:\n",
    "        return 'E'\n",
    "    return 'F'"
   ]
  },
  {
   "cell_type": "code",
   "execution_count": 72,
   "metadata": {
    "pycharm": {
     "name": "#%%\n"
    }
   },
   "outputs": [],
   "source": [
    "grade_input1 = int(input(\"Enter first grade: \"))\n",
    "grade_input2 = int(input(\"Enter second grade: \"))\n",
    "grade_input3 = int(input(\"Enter third grade: \"))"
   ]
  },
  {
   "cell_type": "code",
   "execution_count": 73,
   "metadata": {
    "pycharm": {
     "name": "#%%\n"
    }
   },
   "outputs": [],
   "source": [
    "average = get_average_score(grade_input1,grade_input2,grade_input3)"
   ]
  },
  {
   "cell_type": "code",
   "execution_count": 74,
   "metadata": {
    "pycharm": {
     "name": "#%%\n"
    }
   },
   "outputs": [
    {
     "name": "stdout",
     "output_type": "stream",
     "text": [
      "Your grade is B\n"
     ]
    }
   ],
   "source": [
    "grade = get_grade(average)\n",
    "print(f\"Your grade is {grade}\")"
   ]
  },
  {
   "cell_type": "markdown",
   "metadata": {
    "pycharm": {
     "name": "#%% md\n"
    }
   },
   "source": [
    "# Problem 3: Data Wrangling and Plotting Problem"
   ]
  },
  {
   "cell_type": "markdown",
   "metadata": {
    "pycharm": {
     "name": "#%% md\n"
    }
   },
   "source": [
    "## 1. Read the csv file in Pandas and create a DataFrame named Auto_df. What is the shape of Auto_df. Print first 7 and last 7 rows of Auto_df.\n",
    "\n",
    "## As shown below the shape is (205,26)"
   ]
  },
  {
   "cell_type": "code",
   "execution_count": 75,
   "metadata": {
    "pycharm": {
     "name": "#%%\n"
    }
   },
   "outputs": [],
   "source": [
    "import pandas as pd\n",
    "import numpy as np"
   ]
  },
  {
   "cell_type": "code",
   "execution_count": 76,
   "metadata": {
    "pycharm": {
     "name": "#%%\n"
    }
   },
   "outputs": [],
   "source": [
    "auto_df = pd.read_csv(\"auto_data.csv\")"
   ]
  },
  {
   "cell_type": "code",
   "execution_count": 77,
   "metadata": {
    "pycharm": {
     "name": "#%%\n"
    }
   },
   "outputs": [
    {
     "data": {
      "text/plain": "(205, 26)"
     },
     "execution_count": 77,
     "metadata": {},
     "output_type": "execute_result"
    }
   ],
   "source": [
    "auto_df.shape"
   ]
  },
  {
   "cell_type": "code",
   "execution_count": 78,
   "metadata": {
    "pycharm": {
     "name": "#%%\n"
    }
   },
   "outputs": [
    {
     "data": {
      "text/plain": "   symboling normalized-losses         make fuel-type aspiration num-of-doors  \\\n0          3                 ?  alfa-romero       gas        std          two   \n1          3                 ?  alfa-romero       gas        std          two   \n2          1                 ?  alfa-romero       gas        std          two   \n3          2               164         audi       gas        std         four   \n4          2               164         audi       gas        std         four   \n5          2                 ?         audi       gas        std          two   \n6          1               158         audi       gas        std         four   \n\n    body-style drive-wheels engine-location  wheel-base  ...  engine-size  \\\n0  convertible          rwd           front        88.6  ...          130   \n1  convertible          rwd           front        88.6  ...          130   \n2    hatchback          rwd           front        94.5  ...          152   \n3        sedan          fwd           front        99.8  ...          109   \n4        sedan          4wd           front        99.4  ...          136   \n5        sedan          fwd           front        99.8  ...          136   \n6        sedan          fwd           front       105.8  ...          136   \n\n   fuel-system  bore  stroke compression-ratio horsepower  peak-rpm city-mpg  \\\n0         mpfi  3.47    2.68               9.0        111      5000       21   \n1         mpfi  3.47    2.68               9.0        111      5000       21   \n2         mpfi  2.68    3.47               9.0        154      5000       19   \n3         mpfi  3.19     3.4              10.0        102      5500       24   \n4         mpfi  3.19     3.4               8.0        115      5500       18   \n5         mpfi  3.19     3.4               8.5        110      5500       19   \n6         mpfi  3.19     3.4               8.5        110      5500       19   \n\n  highway-mpg  price  \n0          27  13495  \n1          27  16500  \n2          26  16500  \n3          30  13950  \n4          22  17450  \n5          25  15250  \n6          25  17710  \n\n[7 rows x 26 columns]",
      "text/html": "<div>\n<style scoped>\n    .dataframe tbody tr th:only-of-type {\n        vertical-align: middle;\n    }\n\n    .dataframe tbody tr th {\n        vertical-align: top;\n    }\n\n    .dataframe thead th {\n        text-align: right;\n    }\n</style>\n<table border=\"1\" class=\"dataframe\">\n  <thead>\n    <tr style=\"text-align: right;\">\n      <th></th>\n      <th>symboling</th>\n      <th>normalized-losses</th>\n      <th>make</th>\n      <th>fuel-type</th>\n      <th>aspiration</th>\n      <th>num-of-doors</th>\n      <th>body-style</th>\n      <th>drive-wheels</th>\n      <th>engine-location</th>\n      <th>wheel-base</th>\n      <th>...</th>\n      <th>engine-size</th>\n      <th>fuel-system</th>\n      <th>bore</th>\n      <th>stroke</th>\n      <th>compression-ratio</th>\n      <th>horsepower</th>\n      <th>peak-rpm</th>\n      <th>city-mpg</th>\n      <th>highway-mpg</th>\n      <th>price</th>\n    </tr>\n  </thead>\n  <tbody>\n    <tr>\n      <th>0</th>\n      <td>3</td>\n      <td>?</td>\n      <td>alfa-romero</td>\n      <td>gas</td>\n      <td>std</td>\n      <td>two</td>\n      <td>convertible</td>\n      <td>rwd</td>\n      <td>front</td>\n      <td>88.6</td>\n      <td>...</td>\n      <td>130</td>\n      <td>mpfi</td>\n      <td>3.47</td>\n      <td>2.68</td>\n      <td>9.0</td>\n      <td>111</td>\n      <td>5000</td>\n      <td>21</td>\n      <td>27</td>\n      <td>13495</td>\n    </tr>\n    <tr>\n      <th>1</th>\n      <td>3</td>\n      <td>?</td>\n      <td>alfa-romero</td>\n      <td>gas</td>\n      <td>std</td>\n      <td>two</td>\n      <td>convertible</td>\n      <td>rwd</td>\n      <td>front</td>\n      <td>88.6</td>\n      <td>...</td>\n      <td>130</td>\n      <td>mpfi</td>\n      <td>3.47</td>\n      <td>2.68</td>\n      <td>9.0</td>\n      <td>111</td>\n      <td>5000</td>\n      <td>21</td>\n      <td>27</td>\n      <td>16500</td>\n    </tr>\n    <tr>\n      <th>2</th>\n      <td>1</td>\n      <td>?</td>\n      <td>alfa-romero</td>\n      <td>gas</td>\n      <td>std</td>\n      <td>two</td>\n      <td>hatchback</td>\n      <td>rwd</td>\n      <td>front</td>\n      <td>94.5</td>\n      <td>...</td>\n      <td>152</td>\n      <td>mpfi</td>\n      <td>2.68</td>\n      <td>3.47</td>\n      <td>9.0</td>\n      <td>154</td>\n      <td>5000</td>\n      <td>19</td>\n      <td>26</td>\n      <td>16500</td>\n    </tr>\n    <tr>\n      <th>3</th>\n      <td>2</td>\n      <td>164</td>\n      <td>audi</td>\n      <td>gas</td>\n      <td>std</td>\n      <td>four</td>\n      <td>sedan</td>\n      <td>fwd</td>\n      <td>front</td>\n      <td>99.8</td>\n      <td>...</td>\n      <td>109</td>\n      <td>mpfi</td>\n      <td>3.19</td>\n      <td>3.4</td>\n      <td>10.0</td>\n      <td>102</td>\n      <td>5500</td>\n      <td>24</td>\n      <td>30</td>\n      <td>13950</td>\n    </tr>\n    <tr>\n      <th>4</th>\n      <td>2</td>\n      <td>164</td>\n      <td>audi</td>\n      <td>gas</td>\n      <td>std</td>\n      <td>four</td>\n      <td>sedan</td>\n      <td>4wd</td>\n      <td>front</td>\n      <td>99.4</td>\n      <td>...</td>\n      <td>136</td>\n      <td>mpfi</td>\n      <td>3.19</td>\n      <td>3.4</td>\n      <td>8.0</td>\n      <td>115</td>\n      <td>5500</td>\n      <td>18</td>\n      <td>22</td>\n      <td>17450</td>\n    </tr>\n    <tr>\n      <th>5</th>\n      <td>2</td>\n      <td>?</td>\n      <td>audi</td>\n      <td>gas</td>\n      <td>std</td>\n      <td>two</td>\n      <td>sedan</td>\n      <td>fwd</td>\n      <td>front</td>\n      <td>99.8</td>\n      <td>...</td>\n      <td>136</td>\n      <td>mpfi</td>\n      <td>3.19</td>\n      <td>3.4</td>\n      <td>8.5</td>\n      <td>110</td>\n      <td>5500</td>\n      <td>19</td>\n      <td>25</td>\n      <td>15250</td>\n    </tr>\n    <tr>\n      <th>6</th>\n      <td>1</td>\n      <td>158</td>\n      <td>audi</td>\n      <td>gas</td>\n      <td>std</td>\n      <td>four</td>\n      <td>sedan</td>\n      <td>fwd</td>\n      <td>front</td>\n      <td>105.8</td>\n      <td>...</td>\n      <td>136</td>\n      <td>mpfi</td>\n      <td>3.19</td>\n      <td>3.4</td>\n      <td>8.5</td>\n      <td>110</td>\n      <td>5500</td>\n      <td>19</td>\n      <td>25</td>\n      <td>17710</td>\n    </tr>\n  </tbody>\n</table>\n<p>7 rows × 26 columns</p>\n</div>"
     },
     "execution_count": 78,
     "metadata": {},
     "output_type": "execute_result"
    }
   ],
   "source": [
    "auto_df.head(7) # First 7 columns"
   ]
  },
  {
   "cell_type": "code",
   "execution_count": 79,
   "metadata": {
    "pycharm": {
     "name": "#%%\n"
    }
   },
   "outputs": [
    {
     "data": {
      "text/plain": "     symboling normalized-losses   make fuel-type aspiration num-of-doors  \\\n198         -2               103  volvo       gas      turbo         four   \n199         -1                74  volvo       gas      turbo         four   \n200         -1                95  volvo       gas        std         four   \n201         -1                95  volvo       gas      turbo         four   \n202         -1                95  volvo       gas        std         four   \n203         -1                95  volvo    diesel      turbo         four   \n204         -1                95  volvo       gas      turbo         four   \n\n    body-style drive-wheels engine-location  wheel-base  ...  engine-size  \\\n198      sedan          rwd           front       104.3  ...          130   \n199      wagon          rwd           front       104.3  ...          130   \n200      sedan          rwd           front       109.1  ...          141   \n201      sedan          rwd           front       109.1  ...          141   \n202      sedan          rwd           front       109.1  ...          173   \n203      sedan          rwd           front       109.1  ...          145   \n204      sedan          rwd           front       109.1  ...          141   \n\n     fuel-system  bore  stroke compression-ratio horsepower  peak-rpm  \\\n198         mpfi  3.62    3.15               7.5        162      5100   \n199         mpfi  3.62    3.15               7.5        162      5100   \n200         mpfi  3.78    3.15               9.5        114      5400   \n201         mpfi  3.78    3.15               8.7        160      5300   \n202         mpfi  3.58    2.87               8.8        134      5500   \n203          idi  3.01     3.4              23.0        106      4800   \n204         mpfi  3.78    3.15               9.5        114      5400   \n\n    city-mpg highway-mpg  price  \n198       17          22  18420  \n199       17          22  18950  \n200       23          28  16845  \n201       19          25  19045  \n202       18          23  21485  \n203       26          27  22470  \n204       19          25  22625  \n\n[7 rows x 26 columns]",
      "text/html": "<div>\n<style scoped>\n    .dataframe tbody tr th:only-of-type {\n        vertical-align: middle;\n    }\n\n    .dataframe tbody tr th {\n        vertical-align: top;\n    }\n\n    .dataframe thead th {\n        text-align: right;\n    }\n</style>\n<table border=\"1\" class=\"dataframe\">\n  <thead>\n    <tr style=\"text-align: right;\">\n      <th></th>\n      <th>symboling</th>\n      <th>normalized-losses</th>\n      <th>make</th>\n      <th>fuel-type</th>\n      <th>aspiration</th>\n      <th>num-of-doors</th>\n      <th>body-style</th>\n      <th>drive-wheels</th>\n      <th>engine-location</th>\n      <th>wheel-base</th>\n      <th>...</th>\n      <th>engine-size</th>\n      <th>fuel-system</th>\n      <th>bore</th>\n      <th>stroke</th>\n      <th>compression-ratio</th>\n      <th>horsepower</th>\n      <th>peak-rpm</th>\n      <th>city-mpg</th>\n      <th>highway-mpg</th>\n      <th>price</th>\n    </tr>\n  </thead>\n  <tbody>\n    <tr>\n      <th>198</th>\n      <td>-2</td>\n      <td>103</td>\n      <td>volvo</td>\n      <td>gas</td>\n      <td>turbo</td>\n      <td>four</td>\n      <td>sedan</td>\n      <td>rwd</td>\n      <td>front</td>\n      <td>104.3</td>\n      <td>...</td>\n      <td>130</td>\n      <td>mpfi</td>\n      <td>3.62</td>\n      <td>3.15</td>\n      <td>7.5</td>\n      <td>162</td>\n      <td>5100</td>\n      <td>17</td>\n      <td>22</td>\n      <td>18420</td>\n    </tr>\n    <tr>\n      <th>199</th>\n      <td>-1</td>\n      <td>74</td>\n      <td>volvo</td>\n      <td>gas</td>\n      <td>turbo</td>\n      <td>four</td>\n      <td>wagon</td>\n      <td>rwd</td>\n      <td>front</td>\n      <td>104.3</td>\n      <td>...</td>\n      <td>130</td>\n      <td>mpfi</td>\n      <td>3.62</td>\n      <td>3.15</td>\n      <td>7.5</td>\n      <td>162</td>\n      <td>5100</td>\n      <td>17</td>\n      <td>22</td>\n      <td>18950</td>\n    </tr>\n    <tr>\n      <th>200</th>\n      <td>-1</td>\n      <td>95</td>\n      <td>volvo</td>\n      <td>gas</td>\n      <td>std</td>\n      <td>four</td>\n      <td>sedan</td>\n      <td>rwd</td>\n      <td>front</td>\n      <td>109.1</td>\n      <td>...</td>\n      <td>141</td>\n      <td>mpfi</td>\n      <td>3.78</td>\n      <td>3.15</td>\n      <td>9.5</td>\n      <td>114</td>\n      <td>5400</td>\n      <td>23</td>\n      <td>28</td>\n      <td>16845</td>\n    </tr>\n    <tr>\n      <th>201</th>\n      <td>-1</td>\n      <td>95</td>\n      <td>volvo</td>\n      <td>gas</td>\n      <td>turbo</td>\n      <td>four</td>\n      <td>sedan</td>\n      <td>rwd</td>\n      <td>front</td>\n      <td>109.1</td>\n      <td>...</td>\n      <td>141</td>\n      <td>mpfi</td>\n      <td>3.78</td>\n      <td>3.15</td>\n      <td>8.7</td>\n      <td>160</td>\n      <td>5300</td>\n      <td>19</td>\n      <td>25</td>\n      <td>19045</td>\n    </tr>\n    <tr>\n      <th>202</th>\n      <td>-1</td>\n      <td>95</td>\n      <td>volvo</td>\n      <td>gas</td>\n      <td>std</td>\n      <td>four</td>\n      <td>sedan</td>\n      <td>rwd</td>\n      <td>front</td>\n      <td>109.1</td>\n      <td>...</td>\n      <td>173</td>\n      <td>mpfi</td>\n      <td>3.58</td>\n      <td>2.87</td>\n      <td>8.8</td>\n      <td>134</td>\n      <td>5500</td>\n      <td>18</td>\n      <td>23</td>\n      <td>21485</td>\n    </tr>\n    <tr>\n      <th>203</th>\n      <td>-1</td>\n      <td>95</td>\n      <td>volvo</td>\n      <td>diesel</td>\n      <td>turbo</td>\n      <td>four</td>\n      <td>sedan</td>\n      <td>rwd</td>\n      <td>front</td>\n      <td>109.1</td>\n      <td>...</td>\n      <td>145</td>\n      <td>idi</td>\n      <td>3.01</td>\n      <td>3.4</td>\n      <td>23.0</td>\n      <td>106</td>\n      <td>4800</td>\n      <td>26</td>\n      <td>27</td>\n      <td>22470</td>\n    </tr>\n    <tr>\n      <th>204</th>\n      <td>-1</td>\n      <td>95</td>\n      <td>volvo</td>\n      <td>gas</td>\n      <td>turbo</td>\n      <td>four</td>\n      <td>sedan</td>\n      <td>rwd</td>\n      <td>front</td>\n      <td>109.1</td>\n      <td>...</td>\n      <td>141</td>\n      <td>mpfi</td>\n      <td>3.78</td>\n      <td>3.15</td>\n      <td>9.5</td>\n      <td>114</td>\n      <td>5400</td>\n      <td>19</td>\n      <td>25</td>\n      <td>22625</td>\n    </tr>\n  </tbody>\n</table>\n<p>7 rows × 26 columns</p>\n</div>"
     },
     "execution_count": 79,
     "metadata": {},
     "output_type": "execute_result"
    }
   ],
   "source": [
    "auto_df.tail(7) # Last 7 columns"
   ]
  },
  {
   "cell_type": "markdown",
   "metadata": {
    "pycharm": {
     "name": "#%% md\n"
    }
   },
   "source": [
    "## Can see from column normalized-losses that '?' is an unusual pattern, so I see how many other columns have this symbol."
   ]
  },
  {
   "cell_type": "code",
   "execution_count": 80,
   "metadata": {
    "pycharm": {
     "name": "#%%\n"
    }
   },
   "outputs": [
    {
     "data": {
      "text/plain": "Index(['normalized-losses', 'num-of-doors', 'bore', 'stroke', 'horsepower',\n       'peak-rpm', 'price'],\n      dtype='object')"
     },
     "execution_count": 80,
     "metadata": {},
     "output_type": "execute_result"
    }
   ],
   "source": [
    "auto_df.columns[auto_df.isin(['?']).any()] # Finding rows containing all 'unusual' patterns"
   ]
  },
  {
   "cell_type": "markdown",
   "metadata": {
    "pycharm": {
     "name": "#%% md\n"
    }
   },
   "source": [
    "## Replace with null"
   ]
  },
  {
   "cell_type": "code",
   "execution_count": 81,
   "metadata": {
    "pycharm": {
     "name": "#%%\n"
    }
   },
   "outputs": [],
   "source": [
    "auto_df[\"normalized-losses\"] = auto_df[\"normalized-losses\"].replace(\"?\", np.nan)\n",
    "auto_df[\"num-of-doors\"] = auto_df[\"num-of-doors\"].replace(\"?\", np.nan)\n",
    "auto_df[\"bore\"] = auto_df[\"bore\"].replace(\"?\", np.nan)\n",
    "auto_df[\"stroke\"] = auto_df[\"stroke\"].replace(\"?\", np.nan)\n",
    "auto_df[\"horsepower\"] = auto_df[\"horsepower\"].replace(\"?\", np.nan)\n",
    "auto_df[\"peak-rpm\"] = auto_df[\"peak-rpm\"].replace(\"?\", np.nan)\n",
    "auto_df[\"price\"] = auto_df[\"price\"].replace(\"?\", np.nan)"
   ]
  },
  {
   "cell_type": "code",
   "execution_count": 82,
   "metadata": {
    "pycharm": {
     "name": "#%%\n"
    }
   },
   "outputs": [
    {
     "data": {
      "text/plain": "symboling             0\nnormalized-losses    41\nmake                  0\nfuel-type             0\naspiration            0\nnum-of-doors          2\nbody-style            0\ndrive-wheels          0\nengine-location       0\nwheel-base            0\nlength                0\nwidth                 0\nheight                0\ncurb-weight           0\nengine-type           0\nnum-of-cylinders      0\nengine-size           0\nfuel-system           0\nbore                  4\nstroke                4\ncompression-ratio     0\nhorsepower            2\npeak-rpm              2\ncity-mpg              0\nhighway-mpg           0\nprice                 4\ndtype: int64"
     },
     "execution_count": 82,
     "metadata": {},
     "output_type": "execute_result"
    }
   ],
   "source": [
    "auto_df.isnull().sum()"
   ]
  },
  {
   "cell_type": "code",
   "execution_count": 83,
   "metadata": {
    "pycharm": {
     "name": "#%%\n"
    }
   },
   "outputs": [
    {
     "name": "stdout",
     "output_type": "stream",
     "text": [
      "<class 'pandas.core.frame.DataFrame'>\n",
      "RangeIndex: 205 entries, 0 to 204\n",
      "Data columns (total 26 columns):\n",
      " #   Column             Non-Null Count  Dtype  \n",
      "---  ------             --------------  -----  \n",
      " 0   symboling          205 non-null    int64  \n",
      " 1   normalized-losses  164 non-null    object \n",
      " 2   make               205 non-null    object \n",
      " 3   fuel-type          205 non-null    object \n",
      " 4   aspiration         205 non-null    object \n",
      " 5   num-of-doors       203 non-null    object \n",
      " 6   body-style         205 non-null    object \n",
      " 7   drive-wheels       205 non-null    object \n",
      " 8   engine-location    205 non-null    object \n",
      " 9   wheel-base         205 non-null    float64\n",
      " 10  length             205 non-null    float64\n",
      " 11  width              205 non-null    float64\n",
      " 12  height             205 non-null    float64\n",
      " 13  curb-weight        205 non-null    int64  \n",
      " 14  engine-type        205 non-null    object \n",
      " 15  num-of-cylinders   205 non-null    object \n",
      " 16  engine-size        205 non-null    int64  \n",
      " 17  fuel-system        205 non-null    object \n",
      " 18  bore               201 non-null    object \n",
      " 19  stroke             201 non-null    object \n",
      " 20  compression-ratio  205 non-null    float64\n",
      " 21  horsepower         203 non-null    object \n",
      " 22  peak-rpm           203 non-null    object \n",
      " 23  city-mpg           205 non-null    int64  \n",
      " 24  highway-mpg        205 non-null    int64  \n",
      " 25  price              201 non-null    object \n",
      "dtypes: float64(5), int64(5), object(16)\n",
      "memory usage: 41.8+ KB\n"
     ]
    }
   ],
   "source": [
    "auto_df.info()"
   ]
  },
  {
   "cell_type": "markdown",
   "metadata": {
    "pycharm": {
     "name": "#%% md\n"
    }
   },
   "source": [
    "# I will use the mean value to replace the null values, since there of type 'Object' I will first transform the datatypes to float."
   ]
  },
  {
   "cell_type": "code",
   "execution_count": 84,
   "metadata": {
    "pycharm": {
     "name": "#%%\n"
    }
   },
   "outputs": [],
   "source": [
    "auto_df[\"normalized-losses\"] = auto_df[\"normalized-losses\"].astype(float)\n",
    "auto_df[\"bore\"] = auto_df[\"bore\"].astype(float)\n",
    "auto_df[\"stroke\"] = auto_df[\"stroke\"].astype(float)\n",
    "auto_df[\"horsepower\"] = auto_df[\"horsepower\"].astype(float)\n",
    "auto_df[\"peak-rpm\"] = auto_df[\"peak-rpm\"].astype(float)\n",
    "auto_df[\"price\"] = auto_df[\"price\"].astype(float)"
   ]
  },
  {
   "cell_type": "markdown",
   "metadata": {
    "pycharm": {
     "name": "#%% md\n"
    }
   },
   "source": []
  },
  {
   "cell_type": "code",
   "execution_count": 85,
   "metadata": {
    "pycharm": {
     "name": "#%%\n"
    }
   },
   "outputs": [],
   "source": [
    "auto_df.fillna({'normalized-losses':auto_df[\"normalized-losses\"].mean(),\n",
    "                'bore':auto_df[\"bore\"].mean(),\n",
    "                'stroke': auto_df[\"stroke\"].mean(),\n",
    "                'horsepower': auto_df[\"horsepower\"].mean(),\n",
    "                'peak-rpm': auto_df[\"peak-rpm\"].mean(),\n",
    "                'price': auto_df[\"price\"].mean()}\n",
    "               ,inplace=True)\n"
   ]
  },
  {
   "cell_type": "markdown",
   "metadata": {
    "pycharm": {
     "name": "#%% md\n"
    }
   },
   "source": [
    "# 'num-of-doors' is categorical and only has two null values, so I just drop these rows!"
   ]
  },
  {
   "cell_type": "code",
   "execution_count": 86,
   "metadata": {
    "pycharm": {
     "name": "#%%\n"
    }
   },
   "outputs": [
    {
     "data": {
      "text/plain": "symboling            0\nnormalized-losses    0\nmake                 0\nfuel-type            0\naspiration           0\nnum-of-doors         2\nbody-style           0\ndrive-wheels         0\nengine-location      0\nwheel-base           0\nlength               0\nwidth                0\nheight               0\ncurb-weight          0\nengine-type          0\nnum-of-cylinders     0\nengine-size          0\nfuel-system          0\nbore                 0\nstroke               0\ncompression-ratio    0\nhorsepower           0\npeak-rpm             0\ncity-mpg             0\nhighway-mpg          0\nprice                0\ndtype: int64"
     },
     "execution_count": 86,
     "metadata": {},
     "output_type": "execute_result"
    }
   ],
   "source": [
    "auto_df.isnull().sum()"
   ]
  },
  {
   "cell_type": "code",
   "execution_count": 87,
   "metadata": {
    "pycharm": {
     "name": "#%%\n"
    }
   },
   "outputs": [],
   "source": [
    "auto_df = auto_df.dropna()"
   ]
  },
  {
   "cell_type": "code",
   "execution_count": 88,
   "metadata": {
    "pycharm": {
     "name": "#%%\n"
    }
   },
   "outputs": [
    {
     "data": {
      "text/plain": "symboling            0\nnormalized-losses    0\nmake                 0\nfuel-type            0\naspiration           0\nnum-of-doors         0\nbody-style           0\ndrive-wheels         0\nengine-location      0\nwheel-base           0\nlength               0\nwidth                0\nheight               0\ncurb-weight          0\nengine-type          0\nnum-of-cylinders     0\nengine-size          0\nfuel-system          0\nbore                 0\nstroke               0\ncompression-ratio    0\nhorsepower           0\npeak-rpm             0\ncity-mpg             0\nhighway-mpg          0\nprice                0\ndtype: int64"
     },
     "execution_count": 88,
     "metadata": {},
     "output_type": "execute_result"
    }
   ],
   "source": [
    "auto_df.isnull().sum()"
   ]
  },
  {
   "cell_type": "markdown",
   "metadata": {
    "pycharm": {
     "name": "#%% md\n"
    }
   },
   "source": [
    "## 4. Name the columns that have datatype as “object”\n",
    "## below you can see a list of all the columns witch are objects."
   ]
  },
  {
   "cell_type": "code",
   "execution_count": 89,
   "metadata": {
    "pycharm": {
     "name": "#%%\n"
    }
   },
   "outputs": [
    {
     "data": {
      "text/plain": "Index(['make', 'fuel-type', 'aspiration', 'num-of-doors', 'body-style',\n       'drive-wheels', 'engine-location', 'engine-type', 'num-of-cylinders',\n       'fuel-system'],\n      dtype='object')"
     },
     "execution_count": 89,
     "metadata": {},
     "output_type": "execute_result"
    }
   ],
   "source": [
    "auto_df.loc[:, auto_df.dtypes == object].columns"
   ]
  },
  {
   "cell_type": "markdown",
   "metadata": {
    "pycharm": {
     "name": "#%% md\n"
    }
   },
   "source": [
    "## 5. What is the mean and median value for the length and width column?\n",
    "## As shown below the mean and median for 'length' are 174.1/173.2\n",
    "## As shown below the mean and median for 'width' are 65.9/65.5"
   ]
  },
  {
   "cell_type": "code",
   "execution_count": 90,
   "metadata": {
    "pycharm": {
     "name": "#%%\n"
    }
   },
   "outputs": [
    {
     "data": {
      "text/plain": "174.113300492611"
     },
     "execution_count": 90,
     "metadata": {},
     "output_type": "execute_result"
    }
   ],
   "source": [
    "auto_df[\"length\"].mean()"
   ]
  },
  {
   "cell_type": "code",
   "execution_count": 91,
   "metadata": {
    "pycharm": {
     "name": "#%%\n"
    }
   },
   "outputs": [
    {
     "data": {
      "text/plain": "173.2"
     },
     "execution_count": 91,
     "metadata": {},
     "output_type": "execute_result"
    }
   ],
   "source": [
    "auto_df[\"length\"].median()"
   ]
  },
  {
   "cell_type": "code",
   "execution_count": 92,
   "metadata": {
    "pycharm": {
     "name": "#%%\n"
    }
   },
   "outputs": [
    {
     "data": {
      "text/plain": "65.91527093596056"
     },
     "execution_count": 92,
     "metadata": {},
     "output_type": "execute_result"
    }
   ],
   "source": [
    "auto_df[\"width\"].mean()\n"
   ]
  },
  {
   "cell_type": "code",
   "execution_count": 93,
   "metadata": {
    "pycharm": {
     "name": "#%%\n"
    }
   },
   "outputs": [
    {
     "data": {
      "text/plain": "65.5"
     },
     "execution_count": 93,
     "metadata": {},
     "output_type": "execute_result"
    }
   ],
   "source": [
    "auto_df[\"width\"].median()"
   ]
  },
  {
   "cell_type": "markdown",
   "metadata": {
    "pycharm": {
     "name": "#%% md\n"
    }
   },
   "source": [
    "## 6. The fuel consumption of the vehicles on the highway is given in miles per gallon (mpg)\n",
    "## in the column “highway-mpg”. Transform the mpg to L/100km (using formula L/100km = 235/mpg) in the column of “highway-mpg” and change the name of column to “highway-L/100km”"
   ]
  },
  {
   "cell_type": "code",
   "execution_count": 94,
   "metadata": {
    "pycharm": {
     "name": "#%%\n"
    }
   },
   "outputs": [],
   "source": [
    "auto_df[\"highway-mpg\"] = auto_df[\"highway-mpg\"].apply(lambda mpg:235/mpg) # used a simple lamba"
   ]
  },
  {
   "cell_type": "code",
   "execution_count": 95,
   "metadata": {
    "pycharm": {
     "name": "#%%\n"
    }
   },
   "outputs": [],
   "source": [
    "auto_df.rename(columns={'highway-mpg': 'highway-L/100km'}, inplace=True)"
   ]
  },
  {
   "cell_type": "code",
   "execution_count": 96,
   "metadata": {
    "pycharm": {
     "name": "#%%\n"
    }
   },
   "outputs": [
    {
     "data": {
      "text/plain": "0     8.703704\n1     8.703704\n2     9.038462\n3     7.833333\n4    10.681818\n5     9.400000\n6     9.400000\n7     9.400000\n8    11.750000\n9    10.681818\nName: highway-L/100km, dtype: float64"
     },
     "execution_count": 96,
     "metadata": {},
     "output_type": "execute_result"
    }
   ],
   "source": [
    "auto_df[\"highway-L/100km\"].head(10)"
   ]
  },
  {
   "cell_type": "code",
   "execution_count": 97,
   "metadata": {
    "pycharm": {
     "name": "#%%\n"
    }
   },
   "outputs": [],
   "source": [
    "import matplotlib.pyplot as plt\n",
    "from scipy.stats import spearmanr\n",
    "import seaborn as sns"
   ]
  },
  {
   "cell_type": "markdown",
   "metadata": {
    "pycharm": {
     "name": "#%% md\n"
    }
   },
   "source": [
    "## I decided to stick with seaborn instead for pyplot for the plotting problems."
   ]
  },
  {
   "cell_type": "markdown",
   "metadata": {
    "pycharm": {
     "name": "#%% md\n"
    }
   },
   "source": [
    "## 7. Make a box plot for the curb-weight showing the 5-point summary."
   ]
  },
  {
   "cell_type": "code",
   "execution_count": 98,
   "metadata": {
    "pycharm": {
     "name": "#%%\n"
    }
   },
   "outputs": [
    {
     "data": {
      "text/plain": "[Text(0.5, 1.0, '5 point summary of curb-weight')]"
     },
     "execution_count": 98,
     "metadata": {},
     "output_type": "execute_result"
    },
    {
     "data": {
      "text/plain": "<Figure size 864x648 with 1 Axes>",
      "image/png": "[encoded data removed]"
     },
     "metadata": {},
     "output_type": "display_data"
    }
   ],
   "source": [
    "sns.set(rc={'figure.figsize':(12,9)})\n",
    "sns.boxplot(x=auto_df[\"curb-weight\"], color='g').set(title=\"5 point summary of curb-weight\")"
   ]
  },
  {
   "cell_type": "markdown",
   "metadata": {
    "pycharm": {
     "name": "#%% md\n"
    }
   },
   "source": [
    "# 8. For the column “horsepower”, discretize the data into 5 bins and draw a histogram."
   ]
  },
  {
   "cell_type": "code",
   "execution_count": 99,
   "metadata": {
    "pycharm": {
     "name": "#%%\n"
    }
   },
   "outputs": [
    {
     "data": {
      "text/plain": "0    (104.605, 134.6]\n1    (104.605, 134.6]\n2      (134.6, 288.0]\n3     (87.6, 104.605]\n4    (104.605, 134.6]\nName: horsepower, dtype: category\nCategories (5, interval[float64, right]): [(47.999, 69.0] < (69.0, 87.6] < (87.6, 104.605] < (104.605, 134.6] < (134.6, 288.0]]"
     },
     "execution_count": 99,
     "metadata": {},
     "output_type": "execute_result"
    }
   ],
   "source": [
    "pd.qcut(auto_df[\"horsepower\"], q=5).head() # The bins"
   ]
  },
  {
   "cell_type": "code",
   "execution_count": 100,
   "metadata": {
    "pycharm": {
     "name": "#%%\n"
    }
   },
   "outputs": [
    {
     "data": {
      "text/plain": "<AxesSubplot:xlabel='horsepower', ylabel='Count'>"
     },
     "execution_count": 100,
     "metadata": {},
     "output_type": "execute_result"
    },
    {
     "data": {
      "text/plain": "<Figure size 864x648 with 1 Axes>",
      "image/png": "[encoded data removed]"
     },
     "metadata": {},
     "output_type": "display_data"
    }
   ],
   "source": [
    "sns.histplot(auto_df[\"horsepower\"], bins=5) # The histogram"
   ]
  },
  {
   "cell_type": "markdown",
   "metadata": {
    "pycharm": {
     "name": "#%% md\n"
    }
   },
   "source": [
    "## 9. Find the Spearman correlation between the following columns: bore, stroke, compression-ratio and horsepower."
   ]
  },
  {
   "cell_type": "code",
   "execution_count": 101,
   "metadata": {
    "pycharm": {
     "name": "#%%\n"
    }
   },
   "outputs": [],
   "source": [
    "rank_corr = spearmanr(auto_df[\"bore\"],auto_df[\"stroke\"])"
   ]
  },
  {
   "cell_type": "code",
   "execution_count": 102,
   "metadata": {
    "pycharm": {
     "name": "#%%\n"
    }
   },
   "outputs": [
    {
     "name": "stdout",
     "output_type": "stream",
     "text": [
      "The spearman correlation between bore and stroke: SpearmanrResult(correlation=-0.08063966335396516, pvalue=0.2527451332439136)\n"
     ]
    }
   ],
   "source": [
    "print(f\"The spearman correlation between bore and stroke: {rank_corr}\")"
   ]
  },
  {
   "cell_type": "code",
   "execution_count": 103,
   "metadata": {
    "pycharm": {
     "name": "#%%\n"
    }
   },
   "outputs": [],
   "source": [
    "rank_corr = spearmanr(auto_df[\"compression-ratio\"],auto_df[\"horsepower\"])"
   ]
  },
  {
   "cell_type": "code",
   "execution_count": 104,
   "metadata": {
    "pycharm": {
     "name": "#%%\n"
    }
   },
   "outputs": [
    {
     "name": "stdout",
     "output_type": "stream",
     "text": [
      "The spearman correlation between compression-ration and horsepower: SpearmanrResult(correlation=-0.3476509545710158, pvalue=3.7329801393893844e-07)\n"
     ]
    }
   ],
   "source": [
    "print(f\"The spearman correlation between compression-ration and horsepower: {rank_corr}\")"
   ]
  },
  {
   "cell_type": "markdown",
   "metadata": {
    "pycharm": {
     "name": "#%% md\n"
    }
   },
   "source": [
    "## 10. Given the correlation results between \"price\" and \"stroke\", do you expect a linear relationship? Verify your results using the function \"regplot()\""
   ]
  },
  {
   "cell_type": "code",
   "execution_count": 105,
   "metadata": {
    "pycharm": {
     "name": "#%%\n"
    }
   },
   "outputs": [],
   "source": [
    "rank_corr = spearmanr(auto_df[\"price\"], auto_df[\"stroke\"])"
   ]
  },
  {
   "cell_type": "code",
   "execution_count": 106,
   "metadata": {
    "pycharm": {
     "name": "#%%\n"
    }
   },
   "outputs": [
    {
     "name": "stdout",
     "output_type": "stream",
     "text": [
      "The spearman correlation between price and stroke: SpearmanrResult(correlation=0.10304273828627086, pvalue=0.14347718955232514)\n"
     ]
    }
   ],
   "source": [
    "print(f\"The spearman correlation between price and stroke: {rank_corr}\")"
   ]
  },
  {
   "cell_type": "code",
   "execution_count": 107,
   "metadata": {
    "pycharm": {
     "name": "#%%\n"
    }
   },
   "outputs": [
    {
     "data": {
      "text/plain": "<AxesSubplot:xlabel='stroke', ylabel='price'>"
     },
     "execution_count": 107,
     "metadata": {},
     "output_type": "execute_result"
    },
    {
     "data": {
      "text/plain": "<Figure size 864x648 with 1 Axes>",
      "image/png": "[encoded data removed]"
     },
     "metadata": {},
     "output_type": "display_data"
    }
   ],
   "source": [
    "sns.scatterplot(x=auto_df[\"stroke\"], y=auto_df[\"price\"], data=auto_df) # The data is not linear at all."
   ]
  },
  {
   "cell_type": "code",
   "execution_count": 108,
   "metadata": {
    "pycharm": {
     "name": "#%%\n"
    }
   },
   "outputs": [
    {
     "data": {
      "text/plain": "<AxesSubplot:xlabel='stroke', ylabel='price'>"
     },
     "execution_count": 108,
     "metadata": {},
     "output_type": "execute_result"
    },
    {
     "data": {
      "text/plain": "<Figure size 864x648 with 1 Axes>",
      "image/png": "[encoded data removed]"
     },
     "metadata": {},
     "output_type": "display_data"
    }
   ],
   "source": [
    "sns.regplot(x=auto_df[\"stroke\"], y=auto_df[\"price\"], data=auto_df)"
   ]
  },
  {
   "cell_type": "markdown",
   "metadata": {
    "pycharm": {
     "name": "#%% md\n"
    }
   },
   "source": [
    "## 11. Make a box plot between “body-style” and “price”. Which body-style has the maximum outliers in price?\n",
    "## As shown below the \"Sedan\" has the most outliers in price."
   ]
  },
  {
   "cell_type": "code",
   "execution_count": 109,
   "metadata": {
    "pycharm": {
     "name": "#%%\n"
    }
   },
   "outputs": [
    {
     "data": {
      "text/plain": "<AxesSubplot:xlabel='body-style', ylabel='price'>"
     },
     "execution_count": 109,
     "metadata": {},
     "output_type": "execute_result"
    },
    {
     "data": {
      "text/plain": "<Figure size 864x648 with 1 Axes>",
      "image/png": "[encoded data removed]"
     },
     "metadata": {},
     "output_type": "display_data"
    }
   ],
   "source": [
    "sns.boxplot(x=auto_df[\"body-style\"], y= auto_df[\"price\"], data=auto_df)"
   ]
  },
  {
   "cell_type": "markdown",
   "metadata": {
    "pycharm": {
     "name": "#%% md\n"
    }
   },
   "source": [
    "## 12 Into how many categories can vehicles be categorized based on drive-wheels? How many vehicles are four-wheel drive (i.e. 4wd)?\n",
    "## As seen below there 3 categories. There 9 vehicles with 4wd"
   ]
  },
  {
   "cell_type": "code",
   "execution_count": 110,
   "metadata": {
    "pycharm": {
     "name": "#%%\n"
    }
   },
   "outputs": [
    {
     "data": {
      "text/plain": "fwd    118\nrwd     76\n4wd      9\nName: drive-wheels, dtype: int64"
     },
     "execution_count": 110,
     "metadata": {},
     "output_type": "execute_result"
    }
   ],
   "source": [
    "auto_df[\"drive-wheels\"].value_counts()"
   ]
  },
  {
   "cell_type": "markdown",
   "metadata": {
    "pycharm": {
     "name": "#%% md\n"
    }
   },
   "source": [
    "## 13 How many vehicles have rear engine location?\n",
    "## Using the same approach as previous task, the result is 3 vehicles have rear engine location"
   ]
  },
  {
   "cell_type": "code",
   "execution_count": 111,
   "metadata": {
    "pycharm": {
     "name": "#%%\n"
    }
   },
   "outputs": [
    {
     "data": {
      "text/plain": "front    200\nrear       3\nName: engine-location, dtype: int64"
     },
     "execution_count": 111,
     "metadata": {},
     "output_type": "execute_result"
    }
   ],
   "source": [
    "auto_df[\"engine-location\"].value_counts()"
   ]
  },
  {
   "cell_type": "markdown",
   "metadata": {
    "pycharm": {
     "name": "#%% md\n"
    }
   },
   "source": [
    "## 14 What is the average price of the forward wheel drive (fwd) and rear wheel drive (rwd) category of vehicles?\n",
    "## As shown below the avg price for fwd is 9304.6\n",
    "## As shown below the avg price for rwd is 19671.4"
   ]
  },
  {
   "cell_type": "code",
   "execution_count": 112,
   "metadata": {
    "pycharm": {
     "name": "#%%\n"
    }
   },
   "outputs": [
    {
     "data": {
      "text/plain": "9304.62083649549"
     },
     "execution_count": 112,
     "metadata": {},
     "output_type": "execute_result"
    }
   ],
   "source": [
    "auto_df[auto_df['drive-wheels'] == 'fwd'][\"price\"].mean()"
   ]
  },
  {
   "cell_type": "code",
   "execution_count": 113,
   "metadata": {
    "pycharm": {
     "name": "#%%\n"
    }
   },
   "outputs": [
    {
     "data": {
      "text/plain": "19671.422754647814"
     },
     "execution_count": 113,
     "metadata": {},
     "output_type": "execute_result"
    }
   ],
   "source": [
    "auto_df[auto_df['drive-wheels'] == 'rwd'][\"price\"].mean()"
   ]
  },
  {
   "cell_type": "markdown",
   "metadata": {
    "pycharm": {
     "name": "#%% md\n"
    }
   },
   "source": [
    "## 15 What is the average price of rwd-sedan and 4wd-hatchback? Which one is larger?\n",
    "## As shown below the \"rwd-sedan\" is most expensive."
   ]
  },
  {
   "cell_type": "code",
   "execution_count": 114,
   "metadata": {
    "pycharm": {
     "name": "#%%\n"
    }
   },
   "outputs": [
    {
     "data": {
      "text/plain": "21711.833333333332"
     },
     "execution_count": 114,
     "metadata": {},
     "output_type": "execute_result"
    }
   ],
   "source": [
    "auto_df[(auto_df['drive-wheels'] == \"rwd\") & (auto_df['body-style'] == \"sedan\")][\"price\"].mean()\n"
   ]
  },
  {
   "cell_type": "code",
   "execution_count": 115,
   "metadata": {
    "pycharm": {
     "name": "#%%\n"
    }
   },
   "outputs": [
    {
     "data": {
      "text/plain": "10405.064676616916"
     },
     "execution_count": 115,
     "metadata": {},
     "output_type": "execute_result"
    }
   ],
   "source": [
    "auto_df[(auto_df['drive-wheels'] == \"4wd\") & (auto_df['body-style'] == \"hatchback\")][\"price\"].mean()\n"
   ]
  },
  {
   "cell_type": "markdown",
   "metadata": {
    "pycharm": {
     "name": "#%% md\n"
    }
   },
   "source": [
    "# Problem 4: Web Scraping Problem"
   ]
  },
  {
   "cell_type": "markdown",
   "metadata": {
    "pycharm": {
     "name": "#%% md\n"
    }
   },
   "source": [
    "## Scrap the table titled: “10 most populous countries” shown below and create a DataFrame named DF_Pop\n",
    "\n",
    "## I decided to keep it straight to the point. No need for Beautiful Soup or other libraries (except for html5lib), just plain Pandas can do the job!\n",
    "\n",
    "# NOTE! you might need to install 'html5lib' with: !pip install html5lib"
   ]
  },
  {
   "cell_type": "code",
   "execution_count": 116,
   "metadata": {
    "pycharm": {
     "name": "#%%\n"
    }
   },
   "outputs": [],
   "source": [
    "DF_Pop = pd.read_html(r'https://en.wikipedia.org/wiki/World_population',flavor='html5lib')"
   ]
  },
  {
   "cell_type": "markdown",
   "metadata": {
    "pycharm": {
     "name": "#%% md\n"
    }
   },
   "source": [
    "## Below we can see that the required table '10 most populous countries ' is the 3rd element in the set, so I select that."
   ]
  },
  {
   "cell_type": "code",
   "execution_count": 117,
   "metadata": {
    "pycharm": {
     "name": "#%%\n"
    }
   },
   "outputs": [
    {
     "data": {
      "text/plain": "[      Population         1     2     3     4     5     6     7     8     9  \\\n 0           Year      1804  1930  1960  1974  1987  1999  2011  2022  2037   \n 1  Years elapsed  200,000+   126    30    14    13    12    12    11    15   \n \n      10  \n 0  2057  \n 1    20  ,\n                                                     #  \\\n 0                                                   1   \n 1                                                   2   \n 2                                                   3   \n 3                                                   4   \n 4                                                   5   \n 5                                                   6   \n 6                                                   7   \n 7                                                   8   \n 8                                                   9   \n 9                                                  10   \n 10                                                NaN   \n 11  Notes: .mw-parser-output .reflist{font-size:90...   \n \n                               Most populous countries  \\\n 0                                            China[B]   \n 1                                               India   \n 2                                       United States   \n 3                                           Indonesia   \n 4                                            Pakistan   \n 5                                              Brazil   \n 6                                             Nigeria   \n 7                                          Bangladesh   \n 8                                              Russia   \n 9                                              Mexico   \n 10                                        World total   \n 11  Notes: .mw-parser-output .reflist{font-size:90...   \n \n                                                  2000  \\\n 0                                                1270   \n 1                                                1053   \n 2                                                 283   \n 3                                                 212   \n 4                                                 136   \n 5                                                 176   \n 6                                                 123   \n 7                                                 131   \n 8                                                 146   \n 9                                                 103   \n 10                                               6127   \n 11  Notes: .mw-parser-output .reflist{font-size:90...   \n \n                                                  2015  \\\n 0                                                1376   \n 1                                                1311   \n 2                                                 322   \n 3                                                 258   \n 4                                                 208   \n 5                                                 206   \n 6                                                 182   \n 7                                                 161   \n 8                                                 146   \n 9                                                 127   \n 10                                               7349   \n 11  Notes: .mw-parser-output .reflist{font-size:90...   \n \n                                               2030[A]  \n 0                                                1416  \n 1                                                1528  \n 2                                                 356  \n 3                                                 295  \n 4                                                 245  \n 5                                                 228  \n 6                                                 263  \n 7                                                 186  \n 8                                                 149  \n 9                                                 148  \n 10                                               8501  \n 11  Notes: .mw-parser-output .reflist{font-size:90...  ,\n                      Region Density(inhabitants/km2) Population(millions)  \\\n 0                      Asia                    104.1                 4641   \n 1                    Africa                     44.4                 1340   \n 2                    Europe                     73.4                  747   \n 3             Latin America                     24.1                  653   \n 4  Northern America[note 2]                     14.9                  368   \n 5                   Oceania                        5                   42   \n 6                Antarctica                       ~0            0.004[91]   \n \n                                Most populous country  \\\n 0                      1,411,778,000 – China[note 1]   \n 1                            0,211,401,000 – Nigeria   \n 2  0,146,171,000 – Russia, approx. 110 million in...   \n 3                             0,214,103,000 – Brazil   \n 4                      0,332,909,000 – United States   \n 5                          0,025,917,000 – Australia   \n 6                                        N/A[note 3]   \n \n               Most populous city (metropolitan area)  \n 0  13,515,000 – Tokyo Metropolis(37,400,000 – Gre...  \n 1     09,500,000 – Cairo(20,076,000 – Greater Cairo)  \n 2  13,200,000 – Moscow(20,004,000 – Moscow metrop...  \n 3  12,252,000 – São Paulo City(21,650,000 – São P...  \n 4  08,804,000 – New York City(23,582,649 – New Yo...  \n 5                                05,367,000 – Sydney  \n 6                       00,001,258 – McMurdo Station  ]"
     },
     "execution_count": 117,
     "metadata": {},
     "output_type": "execute_result"
    }
   ],
   "source": [
    "DF_Pop[0:3]"
   ]
  },
  {
   "cell_type": "code",
   "execution_count": 118,
   "metadata": {
    "pycharm": {
     "name": "#%%\n"
    }
   },
   "outputs": [],
   "source": [
    "DF_Pop = DF_Pop[3]"
   ]
  },
  {
   "cell_type": "code",
   "execution_count": 119,
   "metadata": {
    "pycharm": {
     "name": "#%%\n"
    }
   },
   "outputs": [
    {
     "data": {
      "text/plain": "   Rank Country / Dependency  Population Percentage of the world         Date  \\\n0     1                China  1412600000                   17.7%  31 Dec 2021   \n1     2                India  1373761000                   17.2%   1 Mar 2022   \n2     3        United States   333416494                   4.17%   8 Dec 2022   \n3     4            Indonesia   275773800                   3.45%   1 Jul 2022   \n4     5             Pakistan   229488994                   2.87%   1 Jul 2022   \n5     6              Nigeria   216746934                   2.71%   1 Jul 2022   \n6     7               Brazil   215490614                   2.69%   8 Dec 2022   \n7     8           Bangladesh   168220000                   2.10%   1 Jul 2020   \n8     9               Russia   147190000                   1.84%   1 Oct 2021   \n9    10               Mexico   128271248                   1.60%  31 Mar 2022   \n\n  Source (official or from the United Nations)  \n0                 National annual estimate[93]  \n1                 Annual national estimate[94]  \n2                National population clock[95]  \n3                 National annual estimate[96]  \n4                            UN projection[97]  \n5                            UN projection[97]  \n6                National population clock[98]  \n7               Annual Population Estimate[99]  \n8         2021 preliminary census results[100]  \n9             National quarterly estimate[101]  ",
      "text/html": "<div>\n<style scoped>\n    .dataframe tbody tr th:only-of-type {\n        vertical-align: middle;\n    }\n\n    .dataframe tbody tr th {\n        vertical-align: top;\n    }\n\n    .dataframe thead th {\n        text-align: right;\n    }\n</style>\n<table border=\"1\" class=\"dataframe\">\n  <thead>\n    <tr style=\"text-align: right;\">\n      <th></th>\n      <th>Rank</th>\n      <th>Country / Dependency</th>\n      <th>Population</th>\n      <th>Percentage of the world</th>\n      <th>Date</th>\n      <th>Source (official or from the United Nations)</th>\n    </tr>\n  </thead>\n  <tbody>\n    <tr>\n      <th>0</th>\n      <td>1</td>\n      <td>China</td>\n      <td>1412600000</td>\n      <td>17.7%</td>\n      <td>31 Dec 2021</td>\n      <td>National annual estimate[93]</td>\n    </tr>\n    <tr>\n      <th>1</th>\n      <td>2</td>\n      <td>India</td>\n      <td>1373761000</td>\n      <td>17.2%</td>\n      <td>1 Mar 2022</td>\n      <td>Annual national estimate[94]</td>\n    </tr>\n    <tr>\n      <th>2</th>\n      <td>3</td>\n      <td>United States</td>\n      <td>333416494</td>\n      <td>4.17%</td>\n      <td>8 Dec 2022</td>\n      <td>National population clock[95]</td>\n    </tr>\n    <tr>\n      <th>3</th>\n      <td>4</td>\n      <td>Indonesia</td>\n      <td>275773800</td>\n      <td>3.45%</td>\n      <td>1 Jul 2022</td>\n      <td>National annual estimate[96]</td>\n    </tr>\n    <tr>\n      <th>4</th>\n      <td>5</td>\n      <td>Pakistan</td>\n      <td>229488994</td>\n      <td>2.87%</td>\n      <td>1 Jul 2022</td>\n      <td>UN projection[97]</td>\n    </tr>\n    <tr>\n      <th>5</th>\n      <td>6</td>\n      <td>Nigeria</td>\n      <td>216746934</td>\n      <td>2.71%</td>\n      <td>1 Jul 2022</td>\n      <td>UN projection[97]</td>\n    </tr>\n    <tr>\n      <th>6</th>\n      <td>7</td>\n      <td>Brazil</td>\n      <td>215490614</td>\n      <td>2.69%</td>\n      <td>8 Dec 2022</td>\n      <td>National population clock[98]</td>\n    </tr>\n    <tr>\n      <th>7</th>\n      <td>8</td>\n      <td>Bangladesh</td>\n      <td>168220000</td>\n      <td>2.10%</td>\n      <td>1 Jul 2020</td>\n      <td>Annual Population Estimate[99]</td>\n    </tr>\n    <tr>\n      <th>8</th>\n      <td>9</td>\n      <td>Russia</td>\n      <td>147190000</td>\n      <td>1.84%</td>\n      <td>1 Oct 2021</td>\n      <td>2021 preliminary census results[100]</td>\n    </tr>\n    <tr>\n      <th>9</th>\n      <td>10</td>\n      <td>Mexico</td>\n      <td>128271248</td>\n      <td>1.60%</td>\n      <td>31 Mar 2022</td>\n      <td>National quarterly estimate[101]</td>\n    </tr>\n  </tbody>\n</table>\n</div>"
     },
     "execution_count": 119,
     "metadata": {},
     "output_type": "execute_result"
    }
   ],
   "source": [
    "DF_Pop"
   ]
  },
  {
   "cell_type": "markdown",
   "metadata": {
    "pycharm": {
     "name": "#%% md\n"
    }
   },
   "source": [
    "## Rank column is really not needed so, its dropped"
   ]
  },
  {
   "cell_type": "code",
   "execution_count": 120,
   "metadata": {
    "pycharm": {
     "name": "#%%\n"
    }
   },
   "outputs": [],
   "source": [
    "DF_Pop = DF_Pop.drop(columns=['Rank'],axis=1)"
   ]
  },
  {
   "cell_type": "code",
   "execution_count": 121,
   "metadata": {
    "pycharm": {
     "name": "#%%\n"
    }
   },
   "outputs": [
    {
     "data": {
      "text/plain": "  Country / Dependency  Population Percentage of the world         Date  \\\n0                China  1412600000                   17.7%  31 Dec 2021   \n1                India  1373761000                   17.2%   1 Mar 2022   \n2        United States   333416494                   4.17%   8 Dec 2022   \n3            Indonesia   275773800                   3.45%   1 Jul 2022   \n4             Pakistan   229488994                   2.87%   1 Jul 2022   \n5              Nigeria   216746934                   2.71%   1 Jul 2022   \n6               Brazil   215490614                   2.69%   8 Dec 2022   \n7           Bangladesh   168220000                   2.10%   1 Jul 2020   \n8               Russia   147190000                   1.84%   1 Oct 2021   \n9               Mexico   128271248                   1.60%  31 Mar 2022   \n\n  Source (official or from the United Nations)  \n0                 National annual estimate[93]  \n1                 Annual national estimate[94]  \n2                National population clock[95]  \n3                 National annual estimate[96]  \n4                            UN projection[97]  \n5                            UN projection[97]  \n6                National population clock[98]  \n7               Annual Population Estimate[99]  \n8         2021 preliminary census results[100]  \n9             National quarterly estimate[101]  ",
      "text/html": "<div>\n<style scoped>\n    .dataframe tbody tr th:only-of-type {\n        vertical-align: middle;\n    }\n\n    .dataframe tbody tr th {\n        vertical-align: top;\n    }\n\n    .dataframe thead th {\n        text-align: right;\n    }\n</style>\n<table border=\"1\" class=\"dataframe\">\n  <thead>\n    <tr style=\"text-align: right;\">\n      <th></th>\n      <th>Country / Dependency</th>\n      <th>Population</th>\n      <th>Percentage of the world</th>\n      <th>Date</th>\n      <th>Source (official or from the United Nations)</th>\n    </tr>\n  </thead>\n  <tbody>\n    <tr>\n      <th>0</th>\n      <td>China</td>\n      <td>1412600000</td>\n      <td>17.7%</td>\n      <td>31 Dec 2021</td>\n      <td>National annual estimate[93]</td>\n    </tr>\n    <tr>\n      <th>1</th>\n      <td>India</td>\n      <td>1373761000</td>\n      <td>17.2%</td>\n      <td>1 Mar 2022</td>\n      <td>Annual national estimate[94]</td>\n    </tr>\n    <tr>\n      <th>2</th>\n      <td>United States</td>\n      <td>333416494</td>\n      <td>4.17%</td>\n      <td>8 Dec 2022</td>\n      <td>National population clock[95]</td>\n    </tr>\n    <tr>\n      <th>3</th>\n      <td>Indonesia</td>\n      <td>275773800</td>\n      <td>3.45%</td>\n      <td>1 Jul 2022</td>\n      <td>National annual estimate[96]</td>\n    </tr>\n    <tr>\n      <th>4</th>\n      <td>Pakistan</td>\n      <td>229488994</td>\n      <td>2.87%</td>\n      <td>1 Jul 2022</td>\n      <td>UN projection[97]</td>\n    </tr>\n    <tr>\n      <th>5</th>\n      <td>Nigeria</td>\n      <td>216746934</td>\n      <td>2.71%</td>\n      <td>1 Jul 2022</td>\n      <td>UN projection[97]</td>\n    </tr>\n    <tr>\n      <th>6</th>\n      <td>Brazil</td>\n      <td>215490614</td>\n      <td>2.69%</td>\n      <td>8 Dec 2022</td>\n      <td>National population clock[98]</td>\n    </tr>\n    <tr>\n      <th>7</th>\n      <td>Bangladesh</td>\n      <td>168220000</td>\n      <td>2.10%</td>\n      <td>1 Jul 2020</td>\n      <td>Annual Population Estimate[99]</td>\n    </tr>\n    <tr>\n      <th>8</th>\n      <td>Russia</td>\n      <td>147190000</td>\n      <td>1.84%</td>\n      <td>1 Oct 2021</td>\n      <td>2021 preliminary census results[100]</td>\n    </tr>\n    <tr>\n      <th>9</th>\n      <td>Mexico</td>\n      <td>128271248</td>\n      <td>1.60%</td>\n      <td>31 Mar 2022</td>\n      <td>National quarterly estimate[101]</td>\n    </tr>\n  </tbody>\n</table>\n</div>"
     },
     "execution_count": 121,
     "metadata": {},
     "output_type": "execute_result"
    }
   ],
   "source": [
    "DF_Pop"
   ]
  },
  {
   "cell_type": "markdown",
   "metadata": {
    "pycharm": {
     "name": "#%% md\n"
    }
   },
   "source": [
    "## Create a Bar Chart for the DF_Pop, depicting the country name on X-axis and population on the y-axis."
   ]
  },
  {
   "cell_type": "code",
   "execution_count": 122,
   "metadata": {
    "pycharm": {
     "name": "#%%\n"
    }
   },
   "outputs": [
    {
     "data": {
      "text/plain": "[Text(0.5, 1.0, 'Countries by population')]"
     },
     "execution_count": 122,
     "metadata": {},
     "output_type": "execute_result"
    },
    {
     "data": {
      "text/plain": "<Figure size 864x648 with 1 Axes>",
      "image/png": "[encoded data removed]"
     },
     "metadata": {},
     "output_type": "display_data"
    }
   ],
   "source": [
    "sns.barplot(x=DF_Pop[\"Country / Dependency\"],y=DF_Pop[\"Population\"], data=DF_Pop).set(title=\"Countries by population\")"
   ]
  },
  {
   "cell_type": "code",
   "execution_count": 122,
   "outputs": [],
   "source": [],
   "metadata": {
    "collapsed": false,
    "pycharm": {
     "name": "#%%\n"
    }
   }
  }
 ],
 "metadata": {
  "kernelspec": {
   "display_name": "Python 3 (ipykernel)",
   "language": "python",
   "name": "python3"
  },
  "language_info": {
   "codemirror_mode": {
    "name": "ipython",
    "version": 3
   },
   "file_extension": ".py",
   "mimetype": "text/x-python",
   "name": "python",
   "nbconvert_exporter": "python",
   "pygments_lexer": "ipython3",
   "version": "3.9.12"
  }
 },
 "nbformat": 4,
 "nbformat_minor": 1
}